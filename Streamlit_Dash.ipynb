{
  "nbformat": 4,
  "nbformat_minor": 0,
  "metadata": {
    "colab": {
      "name": "Streamlit Dash",
      "provenance": [],
      "collapsed_sections": [],
      "include_colab_link": true
    },
    "kernelspec": {
      "display_name": "Python 3",
      "name": "python3"
    }
  },
  "cells": [
    {
      "cell_type": "markdown",
      "metadata": {
        "id": "view-in-github",
        "colab_type": "text"
      },
      "source": [
        "<a href=\"https://colab.research.google.com/github/arpitsolanki/FPLBot/blob/main/Streamlit_Dash.ipynb\" target=\"_parent\"><img src=\"https://colab.research.google.com/assets/colab-badge.svg\" alt=\"Open In Colab\"/></a>"
      ]
    },
    {
      "cell_type": "code",
      "metadata": {
        "id": "cPxfsHGb5_xh",
        "colab": {
          "base_uri": "https://localhost:8080/"
        },
        "outputId": "704b2b8d-3266-48ea-f5ef-4d7d2dff4ef8"
      },
      "source": [
        "!pip install streamlit -q"
      ],
      "execution_count": 18,
      "outputs": [
        {
          "output_type": "stream",
          "text": [
            "\u001b[K     |████████████████████████████████| 7.4MB 5.7MB/s \n",
            "\u001b[K     |████████████████████████████████| 112kB 50.0MB/s \n",
            "\u001b[K     |████████████████████████████████| 4.5MB 41.9MB/s \n",
            "\u001b[K     |████████████████████████████████| 81kB 8.5MB/s \n",
            "\u001b[K     |████████████████████████████████| 163kB 44.7MB/s \n",
            "\u001b[K     |████████████████████████████████| 122kB 47.8MB/s \n",
            "\u001b[K     |████████████████████████████████| 71kB 8.4MB/s \n",
            "\u001b[?25h  Building wheel for blinker (setup.py) ... \u001b[?25l\u001b[?25hdone\n",
            "\u001b[31mERROR: google-colab 1.0.0 has requirement ipykernel~=4.10, but you'll have ipykernel 5.4.2 which is incompatible.\u001b[0m\n"
          ],
          "name": "stdout"
        }
      ]
    },
    {
      "cell_type": "code",
      "metadata": {
        "id": "GC3gSHfd6J9y",
        "colab": {
          "base_uri": "https://localhost:8080/"
        },
        "outputId": "e9d1c29a-b3e8-4eb9-bd9a-cc906e55c1f2"
      },
      "source": [
        "# !wget https://bin.equinox.io/c/4VmDzA7iaHb/ngrok-stable-linux-amd64.zip\n",
        "# !unzip -qq ngrok-stable-linux-amd64.zip"
      ],
      "execution_count": null,
      "outputs": [
        {
          "output_type": "stream",
          "text": [
            "--2020-12-26 09:58:25--  https://bin.equinox.io/c/4VmDzA7iaHb/ngrok-stable-linux-amd64.zip\n",
            "Resolving bin.equinox.io (bin.equinox.io)... 3.225.137.4, 52.20.200.43, 34.234.81.220, ...\n",
            "Connecting to bin.equinox.io (bin.equinox.io)|3.225.137.4|:443... connected.\n",
            "HTTP request sent, awaiting response... 200 OK\n",
            "Length: 13773305 (13M) [application/octet-stream]\n",
            "Saving to: ‘ngrok-stable-linux-amd64.zip’\n",
            "\n",
            "ngrok-stable-linux- 100%[===================>]  13.13M  65.1MB/s    in 0.2s    \n",
            "\n",
            "2020-12-26 09:58:25 (65.1 MB/s) - ‘ngrok-stable-linux-amd64.zip’ saved [13773305/13773305]\n",
            "\n"
          ],
          "name": "stdout"
        }
      ]
    },
    {
      "cell_type": "code",
      "metadata": {
        "id": "ijcoRqafk2Yt",
        "colab": {
          "base_uri": "https://localhost:8080/"
        },
        "outputId": "6b396399-08c4-48a4-c1ad-4ad3369a276c"
      },
      "source": [
        "%%writefile app.py\r\n",
        "import streamlit as st\r\n",
        "import pandas as pd\r\n",
        "from skimage import io\r\n",
        "\r\n",
        "def main():\r\n",
        "\r\n",
        "  st.title(\"FPL Dream Team Predictions \")\r\n",
        "  st.subheader(\"Predictions for GameWeek 15\")\r\n",
        "  st.markdown(\"The aim of this application is to use Machine Learning to predict which players are most likely to score 2+ points during a gameweek. The model uses stats like player's historical performance along with score predictions and fixtures related information to identify top 11 players who are likely to be part of the dream team during the week\")\r\n",
        "\r\n",
        "  team=pd.read_csv('https://raw.githubusercontent.com/arpitsolanki/FPLBot/main/output.csv')\r\n",
        "  team['new_photo']=team['new_photo'].astype(str)\r\n",
        "\r\n",
        "  menu = [\"Gameweek 15\"]\r\n",
        "  choice = st.sidebar.selectbox('Menu',menu)\r\n",
        "\r\n",
        "\r\n",
        "  layout=[3,3,4,3]\r\n",
        "  k=0\r\n",
        "  for i in range(4):\r\n",
        "    #if k==0:\r\n",
        "    #  buffer, col1, buffer1 = st.beta_columns([1,1,1])\r\n",
        "    #else :\r\n",
        "    col= st.beta_columns(layout[i])\r\n",
        "\r\n",
        "    for j in range(layout[i]):\r\n",
        "#      col=lst[i]\r\n",
        "      img=team.iloc[k,3]\r\n",
        "      img_path='https://resources.premierleague.com/premierleague/photos/players/110x140/p'+img+'.png'\r\n",
        "      img=io.imread(img_path)\r\n",
        "      if k==0:\r\n",
        "        col[1].image(img, caption=team.iloc[k,0],width=50)\r\n",
        "        k=k+1\r\n",
        "        break\r\n",
        "      else:\r\n",
        "        col[j].image(img, caption=team.iloc[k,0],width=50)\r\n",
        "      \r\n",
        "      k=k+1\r\n",
        "\r\n",
        "\r\n",
        " # layout=[1,3,4,3]\r\n",
        "\r\n",
        "if __name__ == '__main__':\r\n",
        "\tmain()"
      ],
      "execution_count": 52,
      "outputs": [
        {
          "output_type": "stream",
          "text": [
            "Overwriting app.py\n"
          ],
          "name": "stdout"
        }
      ]
    },
    {
      "cell_type": "code",
      "metadata": {
        "id": "SmKytEVllQTc",
        "colab": {
          "base_uri": "https://localhost:8080/"
        },
        "outputId": "0246185f-b907-45e5-f60d-2a8b037c7eb4"
      },
      "source": [
        "!ls"
      ],
      "execution_count": 15,
      "outputs": [
        {
          "output_type": "stream",
          "text": [
            "app.py\tnode_modules  package-lock.json  sample_data\n"
          ],
          "name": "stdout"
        }
      ]
    },
    {
      "cell_type": "markdown",
      "metadata": {
        "id": "oE8YZYsk-UGs"
      },
      "source": [
        "**Use the output of this command as the link to your Streamlit app.**"
      ]
    },
    {
      "cell_type": "code",
      "metadata": {
        "id": "XMOoOLFT88ku",
        "colab": {
          "base_uri": "https://localhost:8080/"
        },
        "outputId": "d35c5c7b-b4d9-493b-ed0e-14cd237ee07f"
      },
      "source": [
        "get_ipython().system_raw('./ngrok http 8501 &')\n",
        "! curl -s http://localhost:4040/api/tunnels | python3 -c \\\n",
        "    \"import sys, json; print(json.load(sys.stdin)['tunnels'][0]['public_url'])\""
      ],
      "execution_count": 42,
      "outputs": [
        {
          "output_type": "stream",
          "text": [
            "Traceback (most recent call last):\n",
            "  File \"<string>\", line 1, in <module>\n",
            "  File \"/usr/lib/python3.6/json/__init__.py\", line 299, in load\n",
            "    parse_constant=parse_constant, object_pairs_hook=object_pairs_hook, **kw)\n",
            "  File \"/usr/lib/python3.6/json/__init__.py\", line 354, in loads\n",
            "    return _default_decoder.decode(s)\n",
            "  File \"/usr/lib/python3.6/json/decoder.py\", line 339, in decode\n",
            "    obj, end = self.raw_decode(s, idx=_w(s, 0).end())\n",
            "  File \"/usr/lib/python3.6/json/decoder.py\", line 357, in raw_decode\n",
            "    raise JSONDecodeError(\"Expecting value\", s, err.value) from None\n",
            "json.decoder.JSONDecodeError: Expecting value: line 1 column 1 (char 0)\n"
          ],
          "name": "stdout"
        }
      ]
    },
    {
      "cell_type": "markdown",
      "metadata": {
        "id": "SdNVtkKn-l-z"
      },
      "source": [
        "**Ignore the output of this**"
      ]
    },
    {
      "cell_type": "code",
      "metadata": {
        "id": "rUHzaig59IQ_",
        "colab": {
          "base_uri": "https://localhost:8080/"
        },
        "outputId": "7cc96684-b954-426e-e924-2fbf075defb8"
      },
      "source": [
        "#!streamlit run /content/app.py "
      ],
      "execution_count": 17,
      "outputs": [
        {
          "output_type": "stream",
          "text": [
            "/bin/bash: streamlit: command not found\n"
          ],
          "name": "stdout"
        }
      ]
    },
    {
      "cell_type": "code",
      "metadata": {
        "id": "k8ygeFpql8g7",
        "colab": {
          "base_uri": "https://localhost:8080/"
        },
        "outputId": "068f2da1-a597-4342-df6a-8102abf09f94"
      },
      "source": [
        "#!pip install streamlit\r\n",
        "!npm install localtunnel\r\n",
        "!streamlit run app.py &>/dev/null&\r\n",
        "!npx localtunnel --port 8501"
      ],
      "execution_count": null,
      "outputs": [
        {
          "output_type": "stream",
          "text": [
            "\u001b[K\u001b[?25h\u001b[37;40mnpm\u001b[0m \u001b[0m\u001b[30;43mWARN\u001b[0m \u001b[0m\u001b[35msaveError\u001b[0m ENOENT: no such file or directory, open '/content/package.json'\n",
            "\u001b[0m\u001b[37;40mnpm\u001b[0m \u001b[0m\u001b[30;43mWARN\u001b[0m \u001b[0m\u001b[35menoent\u001b[0m ENOENT: no such file or directory, open '/content/package.json'\n",
            "\u001b[0m\u001b[37;40mnpm\u001b[0m \u001b[0m\u001b[30;43mWARN\u001b[0m\u001b[35m\u001b[0m content No description\n",
            "\u001b[0m\u001b[37;40mnpm\u001b[0m \u001b[0m\u001b[30;43mWARN\u001b[0m\u001b[35m\u001b[0m content No repository field.\n",
            "\u001b[0m\u001b[37;40mnpm\u001b[0m \u001b[0m\u001b[30;43mWARN\u001b[0m\u001b[35m\u001b[0m content No README data\n",
            "\u001b[0m\u001b[37;40mnpm\u001b[0m \u001b[0m\u001b[30;43mWARN\u001b[0m\u001b[35m\u001b[0m content No license field.\n",
            "\u001b[0m\n",
            "+ localtunnel@2.0.0\n",
            "updated 1 package and audited 58 packages in 0.55s\n",
            "\n",
            "2 packages are looking for funding\n",
            "  run `npm fund` for details\n",
            "\n",
            "found \u001b[92m0\u001b[0m vulnerabilities\n",
            "\n",
            "\u001b[K\u001b[?25hnpx: installed 35 in 2.967s\n",
            "your url is: https://cold-bulldog-20.loca.lt\n"
          ],
          "name": "stdout"
        }
      ]
    }
  ]
}