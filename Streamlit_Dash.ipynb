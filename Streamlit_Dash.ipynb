{
  "nbformat": 4,
  "nbformat_minor": 0,
  "metadata": {
    "colab": {
      "name": "Streamlit Dash",
      "provenance": [],
      "collapsed_sections": [],
      "include_colab_link": true
    },
    "kernelspec": {
      "display_name": "Python 3",
      "name": "python3"
    }
  },
  "cells": [
    {
      "cell_type": "markdown",
      "metadata": {
        "id": "view-in-github",
        "colab_type": "text"
      },
      "source": [
        "<a href=\"https://colab.research.google.com/github/arpitsolanki/FPLBot/blob/main/Streamlit_Dash.ipynb\" target=\"_parent\"><img src=\"https://colab.research.google.com/assets/colab-badge.svg\" alt=\"Open In Colab\"/></a>"
      ]
    },
    {
      "cell_type": "code",
      "metadata": {
        "id": "cPxfsHGb5_xh",
        "colab": {
          "base_uri": "https://localhost:8080/"
        },
        "outputId": "704b2b8d-3266-48ea-f5ef-4d7d2dff4ef8"
      },
      "source": [
        "!pip install streamlit -q"
      ],
      "execution_count": 18,
      "outputs": [
        {
          "output_type": "stream",
          "text": [
            "\u001b[K     |████████████████████████████████| 7.4MB 5.7MB/s \n",
            "\u001b[K     |████████████████████████████████| 112kB 50.0MB/s \n",
            "\u001b[K     |████████████████████████████████| 4.5MB 41.9MB/s \n",
            "\u001b[K     |████████████████████████████████| 81kB 8.5MB/s \n",
            "\u001b[K     |████████████████████████████████| 163kB 44.7MB/s \n",
            "\u001b[K     |████████████████████████████████| 122kB 47.8MB/s \n",
            "\u001b[K     |████████████████████████████████| 71kB 8.4MB/s \n",
            "\u001b[?25h  Building wheel for blinker (setup.py) ... \u001b[?25l\u001b[?25hdone\n",
            "\u001b[31mERROR: google-colab 1.0.0 has requirement ipykernel~=4.10, but you'll have ipykernel 5.4.2 which is incompatible.\u001b[0m\n"
          ],
          "name": "stdout"
        }
      ]
    },
    {
      "cell_type": "code",
      "metadata": {
        "id": "GC3gSHfd6J9y",
        "colab": {
          "base_uri": "https://localhost:8080/"
        },
        "outputId": "e9d1c29a-b3e8-4eb9-bd9a-cc906e55c1f2"
      },
      "source": [
        "# !wget https://bin.equinox.io/c/4VmDzA7iaHb/ngrok-stable-linux-amd64.zip\n",
        "# !unzip -qq ngrok-stable-linux-amd64.zip"
      ],
      "execution_count": null,
      "outputs": [
        {
          "output_type": "stream",
          "text": [
            "--2020-12-26 09:58:25--  https://bin.equinox.io/c/4VmDzA7iaHb/ngrok-stable-linux-amd64.zip\n",
            "Resolving bin.equinox.io (bin.equinox.io)... 3.225.137.4, 52.20.200.43, 34.234.81.220, ...\n",
            "Connecting to bin.equinox.io (bin.equinox.io)|3.225.137.4|:443... connected.\n",
            "HTTP request sent, awaiting response... 200 OK\n",
            "Length: 13773305 (13M) [application/octet-stream]\n",
            "Saving to: ‘ngrok-stable-linux-amd64.zip’\n",
            "\n",
            "ngrok-stable-linux- 100%[===================>]  13.13M  65.1MB/s    in 0.2s    \n",
            "\n",
            "2020-12-26 09:58:25 (65.1 MB/s) - ‘ngrok-stable-linux-amd64.zip’ saved [13773305/13773305]\n",
            "\n"
          ],
          "name": "stdout"
        }
      ]
    },
    {
      "cell_type": "code",
      "metadata": {
        "id": "ijcoRqafk2Yt",
        "colab": {
          "base_uri": "https://localhost:8080/"
        },
        "outputId": "38475ed2-b843-4fb7-c329-b7d3fe9d00a1"
      },
      "source": [
        "%%writefile app.py\r\n",
        "import streamlit as st\r\n",
        "import pandas as pd\r\n",
        "from skimage import io\r\n",
        "import altair as alt\r\n",
        "\r\n",
        "def main():\r\n",
        "\r\n",
        "  st.title(\"FPL Dream Team Predictions \")\r\n",
        "  st.subheader(\"Team Predictions for GameWeek 15\")\r\n",
        "  st.markdown(\"The aim of this application is to use Machine Learning to predict which players are most likely to score 2+ points during a gameweek. The model uses stats like player's historical performance along with score predictions and fixtures related information to identify top 11 players who are likely to be part of the dream team during the week\")\r\n",
        "\r\n",
        "  team=pd.read_csv('https://raw.githubusercontent.com/arpitsolanki/FPLBot/main/output.csv')\r\n",
        "  team['new_photo']=team['new_photo'].astype(str)\r\n",
        "\r\n",
        "  gw_list=team['gw'].unique().tolist()\r\n",
        "  max_gw=team['gw'].max()\r\n",
        "#  menu = [\"Gameweek 15\"]\r\n",
        "  menu=gw_list\r\n",
        "  choice = st.sidebar.selectbox('Gameweek Number',menu)\r\n",
        " # st.text(choice)\r\n",
        "  team=team.loc[team.gw==int(choice)]\r\n",
        "\r\n",
        "  layout=[3,3,4,3]\r\n",
        "  k=0\r\n",
        "  for i in range(4):\r\n",
        "    #if k==0:\r\n",
        "    #  buffer, col1, buffer1 = st.beta_columns([1,1,1])\r\n",
        "    #else :\r\n",
        "    col= st.beta_columns(layout[i])\r\n",
        "\r\n",
        "    for j in range(layout[i]):\r\n",
        "#      col=lst[i]\r\n",
        "      img=team.iloc[k,3]\r\n",
        "      img_path='https://resources.premierleague.com/premierleague/photos/players/110x140/p'+img+'.png'\r\n",
        "      img=io.imread(img_path)\r\n",
        "      if k==0:\r\n",
        "        col[1].image(img, caption=team.iloc[k,0],width=50)\r\n",
        "        k=k+1\r\n",
        "        break\r\n",
        "      else:\r\n",
        "        col[j].image(img, caption=team.iloc[k,0],width=50)\r\n",
        "      \r\n",
        "      k=k+1\r\n",
        "  #Populate line chart for previous weeks\r\n",
        "\r\n",
        "  if choice < max_gw:\r\n",
        "    st.subheader(\"Points comparison - Predicted vs Actual Dream Team\")\r\n",
        "\r\n",
        "    last_gw_dream_team=pd.read_csv('https://raw.githubusercontent.com/arpitsolanki/FPLBot/main/last_gw_dream_team.csv')\r\n",
        "    dream_team_points=last_gw_dream_team['total_points'].sum()\r\n",
        "\r\n",
        "    gw_points_history=pd.read_csv('https://raw.githubusercontent.com/arpitsolanki/FPLBot/main/gw_points_history.csv')\r\n",
        "    my_team_points=gw_points_history['total_points'].sum()\r\n",
        "\r\n",
        "    d = {'cat': ['dream_team_points','my_team_points'], 'pts': [dream_team_points,my_team_points]}\r\n",
        "    chart_data = pd.DataFrame(data=d)\r\n",
        "   # st.bar_chart(chart_data)\r\n",
        "#     alt.Chart(chart_data).mark_bar().encode(\r\n",
        "#     x='cat',\r\n",
        "#     y='pts'\r\n",
        "# )\r\n",
        "    \r\n",
        "    source = pd.DataFrame({\r\n",
        "    'a': ['A', 'B', 'C', 'D', 'E', 'F', 'G', 'H', 'I'],\r\n",
        "    'b': [28, 55, 43, 91, 81, 53, 19, 87, 52]\r\n",
        "    })\r\n",
        "\r\n",
        "    alt.Chart(source).mark_bar().encode(\r\n",
        "    x='a',\r\n",
        "    y='b'\r\n",
        "    )\r\n",
        " # layout=[1,3,4,3]\r\n",
        "\r\n",
        "if __name__ == '__main__':\r\n",
        "\tmain()"
      ],
      "execution_count": 82,
      "outputs": [
        {
          "output_type": "stream",
          "text": [
            "Overwriting app.py\n"
          ],
          "name": "stdout"
        }
      ]
    },
    {
      "cell_type": "code",
      "metadata": {
        "id": "SmKytEVllQTc",
        "colab": {
          "base_uri": "https://localhost:8080/"
        },
        "outputId": "0246185f-b907-45e5-f60d-2a8b037c7eb4"
      },
      "source": [
        "!ls"
      ],
      "execution_count": 15,
      "outputs": [
        {
          "output_type": "stream",
          "text": [
            "app.py\tnode_modules  package-lock.json  sample_data\n"
          ],
          "name": "stdout"
        }
      ]
    },
    {
      "cell_type": "code",
      "metadata": {
        "id": "rUHzaig59IQ_",
        "colab": {
          "base_uri": "https://localhost:8080/"
        },
        "outputId": "7cc96684-b954-426e-e924-2fbf075defb8"
      },
      "source": [
        "#!streamlit run /content/app.py "
      ],
      "execution_count": 17,
      "outputs": [
        {
          "output_type": "stream",
          "text": [
            "/bin/bash: streamlit: command not found\n"
          ],
          "name": "stdout"
        }
      ]
    },
    {
      "cell_type": "code",
      "metadata": {
        "id": "k8ygeFpql8g7",
        "colab": {
          "base_uri": "https://localhost:8080/"
        },
        "outputId": "99198f8a-14db-4c35-80d4-7540ecd6118e"
      },
      "source": [
        "#!pip install streamlit\r\n",
        "!npm install localtunnel\r\n",
        "!streamlit run app.py &>/dev/null&\r\n",
        "!npx localtunnel --port 8501"
      ],
      "execution_count": null,
      "outputs": [
        {
          "output_type": "stream",
          "text": [
            "\u001b[K\u001b[?25h\u001b[37;40mnpm\u001b[0m \u001b[0m\u001b[30;43mWARN\u001b[0m \u001b[0m\u001b[35msaveError\u001b[0m ENOENT: no such file or directory, open '/content/package.json'\n",
            "\u001b[0m\u001b[37;40mnpm\u001b[0m \u001b[0m\u001b[30;43mWARN\u001b[0m \u001b[0m\u001b[35menoent\u001b[0m ENOENT: no such file or directory, open '/content/package.json'\n",
            "\u001b[0m\u001b[37;40mnpm\u001b[0m \u001b[0m\u001b[30;43mWARN\u001b[0m\u001b[35m\u001b[0m content No description\n",
            "\u001b[0m\u001b[37;40mnpm\u001b[0m \u001b[0m\u001b[30;43mWARN\u001b[0m\u001b[35m\u001b[0m content No repository field.\n",
            "\u001b[0m\u001b[37;40mnpm\u001b[0m \u001b[0m\u001b[30;43mWARN\u001b[0m\u001b[35m\u001b[0m content No README data\n",
            "\u001b[0m\u001b[37;40mnpm\u001b[0m \u001b[0m\u001b[30;43mWARN\u001b[0m\u001b[35m\u001b[0m content No license field.\n",
            "\u001b[0m\n",
            "\u001b[K\u001b[?25h+ localtunnel@2.0.0\n",
            "updated 1 package and audited 58 packages in 0.579s\n",
            "\n",
            "2 packages are looking for funding\n",
            "  run `npm fund` for details\n",
            "\n",
            "found \u001b[92m0\u001b[0m vulnerabilities\n",
            "\n",
            "\u001b[K\u001b[?25hnpx: installed 35 in 3.095s\n",
            "your url is: https://wonderful-lionfish-61.loca.lt\n"
          ],
          "name": "stdout"
        }
      ]
    }
  ]
}