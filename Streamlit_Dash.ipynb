{
  "nbformat": 4,
  "nbformat_minor": 0,
  "metadata": {
    "colab": {
      "name": "Streamlit Dash",
      "provenance": [],
      "collapsed_sections": [],
      "include_colab_link": true
    },
    "kernelspec": {
      "display_name": "Python 3",
      "name": "python3"
    }
  },
  "cells": [
    {
      "cell_type": "markdown",
      "metadata": {
        "id": "view-in-github",
        "colab_type": "text"
      },
      "source": [
        "<a href=\"https://colab.research.google.com/github/arpitsolanki/FPLBot/blob/main/Streamlit_Dash.ipynb\" target=\"_parent\"><img src=\"https://colab.research.google.com/assets/colab-badge.svg\" alt=\"Open In Colab\"/></a>"
      ]
    },
    {
      "cell_type": "code",
      "metadata": {
        "id": "cPxfsHGb5_xh",
        "outputId": "0c149d94-5a13-4ae5-ddbc-5a6190ead9a3",
        "colab": {
          "base_uri": "https://localhost:8080/"
        }
      },
      "source": [
        "!pip install streamlit -q"
      ],
      "execution_count": 1,
      "outputs": [
        {
          "output_type": "stream",
          "text": [
            "\u001b[K     |████████████████████████████████| 7.4MB 12.2MB/s \n",
            "\u001b[K     |████████████████████████████████| 163kB 40.6MB/s \n",
            "\u001b[K     |████████████████████████████████| 81kB 7.8MB/s \n",
            "\u001b[K     |████████████████████████████████| 112kB 51.8MB/s \n",
            "\u001b[K     |████████████████████████████████| 4.5MB 53.7MB/s \n",
            "\u001b[K     |████████████████████████████████| 71kB 6.8MB/s \n",
            "\u001b[K     |████████████████████████████████| 122kB 59.5MB/s \n",
            "\u001b[?25h  Building wheel for blinker (setup.py) ... \u001b[?25l\u001b[?25hdone\n",
            "\u001b[31mERROR: google-colab 1.0.0 has requirement ipykernel~=4.10, but you'll have ipykernel 5.4.2 which is incompatible.\u001b[0m\n"
          ],
          "name": "stdout"
        }
      ]
    },
    {
      "cell_type": "code",
      "metadata": {
        "id": "GC3gSHfd6J9y"
      },
      "source": [
        "# !wget https://bin.equinox.io/c/4VmDzA7iaHb/ngrok-stable-linux-amd64.zip\n",
        "# !unzip -qq ngrok-stable-linux-amd64.zip"
      ],
      "execution_count": 2,
      "outputs": []
    },
    {
      "cell_type": "code",
      "metadata": {
        "id": "ijcoRqafk2Yt",
        "colab": {
          "base_uri": "https://localhost:8080/"
        },
        "outputId": "3ab8d9c2-6f8e-4d61-90c9-e4d09020c2e3"
      },
      "source": [
        "%%writefile app.py\r\n",
        "import streamlit as st\r\n",
        "import pandas as pd\r\n",
        "from skimage import io\r\n",
        "import matplotlib.pyplot as plt\r\n",
        "import plotly.graph_objects as go\r\n",
        "\r\n",
        "def main():\r\n",
        "\r\n",
        "  st.title(\"FPL Dream Team Predictions \")\r\n",
        "\r\n",
        "  team=pd.read_csv('https://raw.githubusercontent.com/arpitsolanki/FPLBot/main/output.csv')\r\n",
        "  team['new_photo']=team['new_photo'].astype(str)\r\n",
        "\r\n",
        "  gw_list=team['gw'].unique().tolist()\r\n",
        "  max_gw=team['gw'].max()\r\n",
        "#  menu = [\"Gameweek 15\"]\r\n",
        "  menu=gw_list\r\n",
        "  choice = st.sidebar.selectbox('Gameweek Number',menu)\r\n",
        " # st.text(choice)\r\n",
        "  team=team.loc[team.gw==int(choice)]\r\n",
        "\r\n",
        "  st.subheader(\"Team Predictions for GameWeek \"+str(choice))\r\n",
        "  st.markdown(\"The aim of this application is to use Machine Learning to predict which players are most likely to score 2+ points during a gameweek. The model uses stats like player's historical performance along with score predictions and fixtures related information to identify top 11 players who are likely to be part of the dream team during the week\")\r\n",
        "\r\n",
        "  layout=[3,3,4,3]\r\n",
        "  k=0\r\n",
        "  for i in range(4):\r\n",
        "    #if k==0:\r\n",
        "    #  buffer, col1, buffer1 = st.beta_columns([1,1,1])\r\n",
        "    #else :\r\n",
        "    col= st.beta_columns(layout[i])\r\n",
        "\r\n",
        "    for j in range(layout[i]):\r\n",
        "#      col=lst[i]\r\n",
        "      img=team.iloc[k,3]\r\n",
        "      img_path='https://resources.premierleague.com/premierleague/photos/players/110x140/p'+img+'.png'\r\n",
        "      img=io.imread(img_path)\r\n",
        "      if k==0:\r\n",
        "        col[1].image(img, caption=team.iloc[k,0],width=50)\r\n",
        "        k=k+1\r\n",
        "        break\r\n",
        "      else:\r\n",
        "        col[j].image(img, caption=team.iloc[k,0],width=50)\r\n",
        "      \r\n",
        "      k=k+1\r\n",
        "  #Populate line chart for previous weeks\r\n",
        "\r\n",
        "  if choice < max_gw:\r\n",
        "    col1,col2= st.beta_columns((2,2))\r\n",
        "    col1.subheader(\"Pts - Predicted vs Actual Team\")\r\n",
        "\r\n",
        "    last_gw_dream_team=pd.read_csv('https://raw.githubusercontent.com/arpitsolanki/FPLBot/main/last_gw_dream_team.csv')\r\n",
        "    dream_team_points=last_gw_dream_team['total_points'].sum()\r\n",
        "\r\n",
        "    gw_points_history=pd.read_csv('https://raw.githubusercontent.com/arpitsolanki/FPLBot/main/gw_points_history.csv')\r\n",
        "    my_team_points=gw_points_history.loc[gw_points_history.gw==choice,'total_points'].sum()\r\n",
        "\r\n",
        "    avg_score_df=pd.read_csv('https://raw.githubusercontent.com/arpitsolanki/FPLBot/main/avg_score_df.csv')\r\n",
        "    avg_score=avg_score_df.loc[avg_score_df.id==choice,'average_entry_score'].sum()\r\n",
        "#    st.text(avg_score)\r\n",
        "\r\n",
        "    d = {'cat': ['dream_team_points','gw_average_points','my_team_points'], 'pts': [dream_team_points,avg_score,my_team_points]}\r\n",
        "    chart_data = pd.DataFrame(data=d)\r\n",
        "    cat=['dream_team_pts','gw_avg_pts','my_team_pts']\r\n",
        "\r\n",
        "    fig = go.Figure([go.Bar(x=cat, y=[dream_team_points,avg_score,my_team_points])])\r\n",
        "    fig.update_layout(width=400,height=300,margin=dict(l=5, r=5, t=5, b=5))\r\n",
        "    col1.plotly_chart(fig,width=350,height=300)\r\n",
        "    \r\n",
        "    gw_points_history=gw_points_history.loc[gw_points_history.gw==choice]\r\n",
        "    col2.subheader(\"Points scored by predicted team\")\r\n",
        "    col2.write(gw_points_history[['player_name','total_points']])\r\n",
        "\r\n",
        "    # st.bar_chart(chart_data)\r\n",
        "#     alt.Chart(chart_data).mark_bar().encode(\r\n",
        "#     x='cat',\r\n",
        "#     y='pts'\r\n",
        "# )\r\n",
        " # layout=[1,3,4,3]\r\n",
        "\r\n",
        "if __name__ == '__main__':\r\n",
        "\tmain()"
      ],
      "execution_count": 8,
      "outputs": [
        {
          "output_type": "stream",
          "text": [
            "Overwriting app.py\n"
          ],
          "name": "stdout"
        }
      ]
    },
    {
      "cell_type": "code",
      "metadata": {
        "id": "SmKytEVllQTc",
        "colab": {
          "base_uri": "https://localhost:8080/"
        },
        "outputId": "07f3e345-26a3-401c-8c18-3c41a399fdcd"
      },
      "source": [
        "!ls"
      ],
      "execution_count": 4,
      "outputs": [
        {
          "output_type": "stream",
          "text": [
            "app.py\tsample_data\n"
          ],
          "name": "stdout"
        }
      ]
    },
    {
      "cell_type": "code",
      "metadata": {
        "id": "rUHzaig59IQ_"
      },
      "source": [
        "#!streamlit run /content/app.py "
      ],
      "execution_count": 5,
      "outputs": []
    },
    {
      "cell_type": "code",
      "metadata": {
        "id": "k8ygeFpql8g7",
        "colab": {
          "base_uri": "https://localhost:8080/"
        },
        "outputId": "cc3a62da-bae3-45b4-a5d6-6b5bb2456d94"
      },
      "source": [
        "#!pip install streamlit\r\n",
        "!npm install localtunnel\r\n",
        "!streamlit run app.py &>/dev/null&\r\n",
        "!npx localtunnel --port 8501"
      ],
      "execution_count": null,
      "outputs": [
        {
          "output_type": "stream",
          "text": [
            "\u001b[K\u001b[?25h\u001b[37;40mnpm\u001b[0m \u001b[0m\u001b[30;43mWARN\u001b[0m \u001b[0m\u001b[35msaveError\u001b[0m ENOENT: no such file or directory, open '/content/package.json'\n",
            "\u001b[0m\u001b[37;40mnpm\u001b[0m \u001b[0m\u001b[30;43mWARN\u001b[0m \u001b[0m\u001b[35menoent\u001b[0m ENOENT: no such file or directory, open '/content/package.json'\n",
            "\u001b[0m\u001b[37;40mnpm\u001b[0m \u001b[0m\u001b[30;43mWARN\u001b[0m\u001b[35m\u001b[0m content No description\n",
            "\u001b[0m\u001b[37;40mnpm\u001b[0m \u001b[0m\u001b[30;43mWARN\u001b[0m\u001b[35m\u001b[0m content No repository field.\n",
            "\u001b[0m\u001b[37;40mnpm\u001b[0m \u001b[0m\u001b[30;43mWARN\u001b[0m\u001b[35m\u001b[0m content No README data\n",
            "\u001b[0m\u001b[37;40mnpm\u001b[0m \u001b[0m\u001b[30;43mWARN\u001b[0m\u001b[35m\u001b[0m content No license field.\n",
            "\u001b[0m\n",
            "\u001b[K\u001b[?25h+ localtunnel@2.0.0\n",
            "updated 1 package and audited 58 packages in 0.654s\n",
            "\n",
            "2 packages are looking for funding\n",
            "  run `npm fund` for details\n",
            "\n",
            "found \u001b[92m0\u001b[0m vulnerabilities\n",
            "\n",
            "\u001b[K\u001b[?25hnpx: installed 35 in 2.899s\n",
            "your url is: https://chilly-grasshopper-80.loca.lt\n"
          ],
          "name": "stdout"
        }
      ]
    }
  ]
}